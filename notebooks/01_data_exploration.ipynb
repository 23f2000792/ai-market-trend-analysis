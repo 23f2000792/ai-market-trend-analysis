{
 "cells": [
  {
   "cell_type": "markdown",
   "metadata": {},
   "source": [
    "# Data Exploration Notebook"
   ]
  },
  {
   "cell_type": "code",
   "execution_count": null,
   "metadata": {},
   "outputs": [],
   "source": [
    "# Import required libraries\n",
    "import pandas as pd\n",
    "import numpy as np\n",
    "import matplotlib.pyplot as plt\n",
    "import seaborn as sns\n",
    "import plotly.graph_objects as go\n",
    "import plotly.express as px\n",
    "from plotly.subplots import make_subplots\n",
    "\n",
    "# Set up plotting\n",
    "plt.style.use('default')\n",
    "sns.set_palette(\"husl\")\n",
    "\n",
    "print(\"Libraries imported successfully!\")\n",
    "print(\"Ready to explore stock market data!\")"
   ]
  },
  {
   "cell_type": "markdown",
   "metadata": {},
   "source": [
    "## Load the Data\n",
    "\n",
    "First, let's load the raw stock data that we collected."
   ]
  },
  {
   "cell_type": "code",
   "execution_count": null,
   "metadata": {},
   "outputs": [],
   "source": [
    "# Load raw stock data\n",
    "try:\n",
    "    df = pd.read_csv('../data/raw/stock_data.csv')\n",
    "    df['Date'] = pd.to_datetime(df['Date'])\n",
    "    print(f\"Data loaded successfully!\")\n",
    "    print(f\"Shape: {df.shape}\")\n",
    "    print(f\"Date range: {df['Date'].min().date()} to {df['Date'].max().date()}\")\n",
    "    print(f\"Stocks: {', '.join(df['Symbol'].unique())}\")\n",
    "except FileNotFoundError:\n",
    "    print(\"Data file not found! Please run data_collector.py first.\")\n",
    "    print(\"Run this command in terminal: python data_collector.py\")"
   ]
  },
  {
   "cell_type": "markdown",
   "metadata": {},
   "source": [
    "## Basic Data Overview"
   ]
  },
  {
   "cell_type": "code",
   "execution_count": null,
   "metadata": {},
   "outputs": [],
   "source": [
    "# Display basic information\n",
    "print(\"Dataset Info:\")\n",
    "print(\"-\" * 40)\n",
    "df.info()\n",
    "\n",
    "print(\"\\nFirst few rows:\")\n",
    "print(\"-\" * 40)\n",
    "df.head()"
   ]
  },
  {
   "cell_type": "code",
   "execution_count": null,
   "metadata": {},
   "outputs": [],
   "source": [
    "# Statistical summary\n",
    "print(\"Statistical Summary:\")\n",
    "print(\"-\" * 40)\n",
    "df.describe()"
   ]
  },
  {
   "cell_type": "markdown",
   "metadata": {},
   "source": [
    "## Price Visualization\n",
    "\n",
    "Let's create some beautiful charts to understand price movements."
   ]
  },
  {
   "cell_type": "code",
   "execution_count": null,
   "metadata": {},
   "outputs": [],
   "source": [
    "# Create price comparison chart\n",
    "fig = go.Figure()\n",
    "\n",
    "colors = ['#1f77b4', '#ff7f0e', '#2ca02c', '#d62728', '#9467bd']\n",
    "\n",
    "for i, symbol in enumerate(df['Symbol'].unique()):\n",
    "    symbol_data = df[df['Symbol'] == symbol].sort_values('Date')\n",
    "    \n",
    "    fig.add_trace(go.Scatter(\n",
    "        x=symbol_data['Date'],\n",
    "        y=symbol_data['Close'],\n",
    "        mode='lines',\n",
    "        name=symbol,\n",
    "        line=dict(color=colors[i % len(colors)], width=2)\n",
    "    ))\n",
    "\n",
    "fig.update_layout(\n",
    "    title='Stock Price Comparison Over Time',\n",
    "    xaxis_title='Date',\n",
    "    yaxis_title='Price ($)',\n",
    "    hovermode='x unified',\n",
    "    height=600\n",
    ")\n",
    "\n",
    "fig.show()"
   ]
  },
  {
   "cell_type": "markdown",
   "metadata": {},
   "source": [
    "## Volume Analysis"
   ]
  },
  {
   "cell_type": "code",
   "execution_count": null,
   "metadata": {},
   "outputs": [],
   "source": [
    "# Volume analysis\n",
    "fig, axes = plt.subplots(2, 3, figsize=(18, 10))\n",
    "fig.suptitle('Trading Volume Analysis', fontsize=16, fontweight='bold')\n",
    "\n",
    "symbols = df['Symbol'].unique()\n",
    "\n",
    "for i, symbol in enumerate(symbols):\n",
    "    row = i // 3\n",
    "    col = i % 3\n",
    "    \n",
    "    if row < 2 and col < 3:\n",
    "        symbol_data = df[df['Symbol'] == symbol]\n",
    "        \n",
    "        axes[row, col].hist(symbol_data['Volume'], bins=50, alpha=0.7, color=colors[i])\n",
    "        axes[row, col].set_title(f'{symbol} Volume Distribution')\n",
    "        axes[row, col].set_xlabel('Volume')\n",
    "        axes[row, col].set_ylabel('Frequency')\n",
    "        axes[row, col].ticklabel_format(style='scientific', axis='x', scilimits=(0,0))\n",
    "\n",
    "if len(symbols) < 6:\n",
    "    fig.delaxes(axes[1, 2])\n",
    "\n",
    "plt.tight_layout()\n",
    "plt.show()"
   ]
  },
  {
   "cell_type": "markdown",
   "metadata": {},
   "source": [
    "## Daily Returns Analysis"
   ]
  },
  {
   "cell_type": "code",
   "execution_count": null,
   "metadata": {},
   "outputs": [],
   "source": [
    "# Calculate daily returns\n",
    "df['Daily_Return'] = df.groupby('Symbol')['Close'].pct_change()\n",
    "\n",
    "# Create returns distribution\n",
    "fig, axes = plt.subplots(1, 2, figsize=(15, 6))\n",
    "\n",
    "returns_data = []\n",
    "labels = []\n",
    "\n",
    "for symbol in df['Symbol'].unique():\n",
    "    symbol_returns = df[df['Symbol'] == symbol]['Daily_Return'].dropna()\n",
    "    returns_data.append(symbol_returns)\n",
    "    labels.append(symbol)\n",
    "\n",
    "axes[0].boxplot(returns_data, labels=labels)\n",
    "axes[0].set_title('Daily Returns Distribution by Stock')\n",
    "axes[0].set_ylabel('Daily Return')\n",
    "axes[0].grid(True, alpha=0.3)\n",
    "\n",
    "all_returns = df['Daily_Return'].dropna()\n",
    "axes[1].hist(all_returns, bins=100, alpha=0.7, color='skyblue', edgecolor='black')\n",
    "axes[1].axvline(all_returns.mean(), color='red', linestyle='--', label=f'Mean: {all_returns.mean():.4f}')\n",
    "axes[1].set_title('Overall Daily Returns Distribution')\n",
    "axes[1].set_xlabel('Daily Return')\n",
    "axes[1].set_ylabel('Frequency')\n",
    "axes[1].legend()\n",
    "axes[1].grid(True, alpha=0.3)\n",
    "\n",
    "plt.tight_layout()\n",
    "plt.show()\n",
    "\n",
    "print(\"Daily Returns Statistics:\")\n",
    "print(\"-\" * 40)\n",
    "returns_stats = df.groupby('Symbol')['Daily_Return'].agg(['mean', 'std', 'min', 'max'])\n",
    "returns_stats.columns = ['Mean Return', 'Volatility', 'Min Return', 'Max Return']\n",
    "print(returns_stats.round(4))"
   ]
  },
  {
   "cell_type": "markdown",
   "metadata": {},
   "source": [
    "## Volatility Analysis"
   ]
  },
  {
   "cell_type": "code",
   "execution_count": null,
   "metadata": {},
   "outputs": [],
   "source": [
    "# Calculate rolling volatility\n",
    "df['Volatility_30'] = df.groupby('Symbol')['Daily_Return'].rolling(window=30).std() * np.sqrt(252)\n",
    "df.reset_index(drop=True, inplace=True)\n",
    "\n",
    "# Plot volatility over time\n",
    "fig = go.Figure()\n",
    "\n",
    "for i, symbol in enumerate(df['Symbol'].unique()):\n",
    "    symbol_data = df[df['Symbol'] == symbol].sort_values('Date')\n",
    "    \n",
    "    fig.add_trace(go.Scatter(\n",
    "        x=symbol_data['Date'],\n",
    "        y=symbol_data['Volatility_30'],\n",
    "        mode='lines',\n",
    "        name=f'{symbol} Volatility',\n",
    "        line=dict(color=colors[i % len(colors)], width=2)\n",
    "    ))\n",
    "\n",
    "fig.update_layout(\n",
    "    title='30-Day Rolling Volatility (Annualized)',\n",
    "    xaxis_title='Date',\n",
    "    yaxis_title='Volatility',\n",
    "    hovermode='x unified',\n",
    "    height=500\n",
    ")\n",
    "\n",
    "fig.show()"
   ]
  },
  {
   "cell_type": "markdown",
   "metadata": {},
   "source": [
    "## Key Insights and Next Steps\n",
    "\n",
    "Based on your data exploration, here are some key insights:"
   ]
  },
  {
   "cell_type": "code",
   "execution_count": null,
   "metadata": {},
   "outputs": [],
   "source": [
    "# Generate insights\n",
    "print(\"KEY INSIGHTS FROM YOUR DATA:\")\n",
    "print(\"=\" * 50)\n",
    "\n",
    "# Data quality\n",
    "missing_data = df.isnull().sum().sum()\n",
    "print(f\"Data Quality: {len(df):,} total rows, {missing_data} missing values\")\n",
    "\n",
    "# Volatility ranking\n",
    "volatility_ranking = df.groupby('Symbol')['Daily_Return'].std().sort_values(ascending=False)\n",
    "print(f\"\\nMost Volatile Stock: {volatility_ranking.index[0]} ({volatility_ranking.iloc[0]:.4f})\")\n",
    "print(f\"Least Volatile Stock: {volatility_ranking.index[-1]} ({volatility_ranking.iloc[-1]:.4f})\")\n",
    "\n",
    "# Best performer\n",
    "total_returns = df.groupby('Symbol').apply(lambda x: (x['Close'].iloc[-1] / x['Close'].iloc[0] - 1))\n",
    "total_returns = total_returns.sort_values(ascending=False)\n",
    "print(f\"\\nBest Performer: {total_returns.index[0]} ({total_returns.iloc[0]:.2%} total return)\")\n",
    "print(f\"Worst Performer: {total_returns.index[-1]} ({total_returns.iloc[-1]:.2%} total return)\")"
   ]
  }
 ],
 "metadata": {
  "kernelspec": {
   "display_name": "Python 3",
   "language": "python",
   "name": "python3"
  },
  "language_info": {
   "codemirror_mode": {
    "name": "ipython",
    "version": 3
   },
   "file_extension": ".py",
   "mimetype": "text/x-python",
   "name": "python",
   "nbconvert_exporter": "python",
   "pygments_lexer": "ipython3",
   "version": "3.8.5"
  }
 },
 "nbformat": 4,
 "nbformat_minor": 5
}
